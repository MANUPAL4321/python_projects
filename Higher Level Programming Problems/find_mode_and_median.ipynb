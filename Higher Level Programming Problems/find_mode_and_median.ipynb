{
 "cells": [
  {
   "cell_type": "markdown",
   "metadata": {},
   "source": [
    "Q. Given a list of numbers, find out the median and mode."
   ]
  },
  {
   "cell_type": "code",
   "execution_count": 24,
   "metadata": {},
   "outputs": [
    {
     "name": "stdout",
     "output_type": "stream",
     "text": [
      "[2, 3, 4, 4, 4, 4, 7, 8, 9]\n",
      "\n",
      "\n",
      "median 4\n",
      "mode is 4\n"
     ]
    }
   ],
   "source": [
    "# list1 = [5,9,2,7,3,0,8,8,3,3,4,5,3,4,4,9]\n",
    "list1=[4,2,7,9,3,8,4,4,4]\n",
    "list3=list1.copy()\n",
    "unique_list=[]\n",
    "list2=[] \n",
    "#find the length of list1.\n",
    "b=len(list1)\n",
    "for k in list1:\n",
    "    if k not in unique_list:\n",
    "        unique_list.append(k)\n",
    "#take a n=0 for set condition.\n",
    "n=0\n",
    "#here use while loop for run again with condition.\n",
    "while(b>n):\n",
    "#i took first num. from list1 for comparison to all number for smaller.  \n",
    "    minimum=list1[0]\n",
    "#loop run one by one at the place of i from list1.    \n",
    "    for i in list1:\n",
    "#i given condition satisfied then minimum other wise same number will be minimum num.        \n",
    "        if i<minimum:\n",
    "            minimum=i\n",
    "#which number will be minimum then add in list2.            \n",
    "    list2.append (minimum)\n",
    "#which number will be add in list2 then remove from list1 so that doesn't run again in list1        \n",
    "    list1.remove(minimum)\n",
    "#here n+1 uses that loop runs limit time.    \n",
    "    n=n+1\n",
    "print(list2)\n",
    "print(\"\\n\")\n",
    "# Now finding median.\n",
    "if b % 2 != 0:\n",
    "    div = (b//2)\n",
    "    median = list2[div]\n",
    "    print('median',median)\n",
    "else:\n",
    "    median = (list2[int(b/2)] + list2[int(b/2-1)])/2\n",
    "    print('median',median)\n",
    "# Now I am finding mode .\n",
    "a=0\n",
    "for j in unique_list:\n",
    "    count=0\n",
    "    for l in list3:\n",
    "        if j==l:\n",
    "            count+=1\n",
    "    if a<count:\n",
    "        a=count\n",
    "        mode=j\n",
    "print(\"mode is\",mode)\n",
    "\n",
    "\n",
    "\n",
    "\n"
   ]
  },
  {
   "cell_type": "code",
   "execution_count": null,
   "metadata": {},
   "outputs": [],
   "source": []
  }
 ],
 "metadata": {
  "kernelspec": {
   "display_name": "Python 3",
   "language": "python",
   "name": "python3"
  },
  "language_info": {
   "codemirror_mode": {
    "name": "ipython",
    "version": 3
   },
   "file_extension": ".py",
   "mimetype": "text/x-python",
   "name": "python",
   "nbconvert_exporter": "python",
   "pygments_lexer": "ipython3",
   "version": "3.11.5"
  }
 },
 "nbformat": 4,
 "nbformat_minor": 2
}
