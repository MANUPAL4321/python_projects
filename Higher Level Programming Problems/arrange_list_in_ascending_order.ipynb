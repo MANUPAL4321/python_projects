{
 "cells": [
  {
   "cell_type": "markdown",
   "metadata": {},
   "source": [
    "Q. Given a list of numbers, sort it in ascending order."
   ]
  },
  {
   "cell_type": "code",
   "execution_count": 3,
   "metadata": {},
   "outputs": [
    {
     "name": "stdout",
     "output_type": "stream",
     "text": [
      "[-1, 6, 6, 7, 8, 9, 10]\n"
     ]
    }
   ],
   "source": [
    "list1 = [9, 6,6,8, 7,-1,10]\n",
    "#i will take a empty list.\n",
    "list2=[] \n",
    "#find the length of list1.\n",
    "b=len(list1)\n",
    "#take a n=0 for set condition.\n",
    "n=0\n",
    "#here use while loop for run again with condition.\n",
    "while(b>n):\n",
    "#i took first num. from list1 for comparison to all number for smaller.  \n",
    "    minimum=list1[0]\n",
    "#loop run one by one at the place of i from list1.    \n",
    "    for i in list1:\n",
    "#i given condition satisfied then minimum other wise same number will be minimum num.        \n",
    "        if i<minimum:\n",
    "            minimum=i\n",
    "#which number will be minimum then add in list2.            \n",
    "    list2.append (minimum)\n",
    "#which number will be add in list2 then remove from list1 so that doesn't run again in list1        \n",
    "    list1.remove(minimum)\n",
    "#here n+1 uses that loop runs limit time.    \n",
    "    n=n+1\n",
    "print(list2)"
   ]
  }
 ],
 "metadata": {
  "kernelspec": {
   "display_name": "Python 3",
   "language": "python",
   "name": "python3"
  },
  "language_info": {
   "codemirror_mode": {
    "name": "ipython",
    "version": 3
   },
   "file_extension": ".py",
   "mimetype": "text/x-python",
   "name": "python",
   "nbconvert_exporter": "python",
   "pygments_lexer": "ipython3",
   "version": "3.11.5"
  }
 },
 "nbformat": 4,
 "nbformat_minor": 2
}
