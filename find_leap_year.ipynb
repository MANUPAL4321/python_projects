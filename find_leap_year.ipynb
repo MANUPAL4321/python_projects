{
 "cells": [
  {
   "cell_type": "markdown",
   "metadata": {},
   "source": [
    "Given a year, check if it is a leap year or not. A leap year is divisible by 4, except for years that are divisible by 100. However, years that are divisible by 400 are also leap years."
   ]
  },
  {
   "cell_type": "code",
   "execution_count": 8,
   "metadata": {},
   "outputs": [],
   "source": [
    "#put any year's number place of year\n",
    "def func_year(year): \n",
    "    #no. divisible by 400 \n",
    "    if year%400 == 0:\n",
    "    #give it is leap year                                     \n",
    "        return year,\"is a leap year\"\n",
    "    #no. divisible by 4 and not divisble by 100            \n",
    "    elif year%4 == 0 and year%100 != 0:\n",
    "    #give leap year            \n",
    "        return year,\"is a leap year\"\n",
    "    #it is not necessary that if divisible by 100 then will be leap year\n",
    "    #other wise it is not leap year.            \n",
    "    else:\n",
    "        return year,\"is not a leap year\"       \n"
   ]
  },
  {
   "cell_type": "code",
   "execution_count": 13,
   "metadata": {},
   "outputs": [
    {
     "data": {
      "text/plain": [
       "(3000, 'is not a leap year')"
      ]
     },
     "execution_count": 13,
     "metadata": {},
     "output_type": "execute_result"
    }
   ],
   "source": [
    "func_year(3000)"
   ]
  },
  {
   "cell_type": "markdown",
   "metadata": {},
   "source": [
    "1. input:2000\n",
    "output:2000,'is a leap year'\n",
    "2. input:2100\n",
    "output:2100,'is not a leap year'\n",
    "3. input:3000\n",
    "output:3000,'is not a leap year'"
   ]
  },
  {
   "cell_type": "markdown",
   "metadata": {},
   "source": []
  }
 ],
 "metadata": {
  "kernelspec": {
   "display_name": "Python 3",
   "language": "python",
   "name": "python3"
  },
  "language_info": {
   "codemirror_mode": {
    "name": "ipython",
    "version": 3
   },
   "file_extension": ".py",
   "mimetype": "text/x-python",
   "name": "python",
   "nbconvert_exporter": "python",
   "pygments_lexer": "ipython3",
   "version": "3.11.5"
  }
 },
 "nbformat": 4,
 "nbformat_minor": 2
}
