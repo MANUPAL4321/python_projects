{
 "cells": [
  {
   "cell_type": "markdown",
   "metadata": {},
   "source": [
    "1.Given an integer, check if it is even or odd."
   ]
  },
  {
   "cell_type": "code",
   "execution_count": 4,
   "metadata": {},
   "outputs": [],
   "source": [
    "x = float(input(\"take any integer\"))   #put any interger for check odd or even\n",
    "if x%2==0:                             #no. is divisible by 2 \n",
    "    print(x,\"is even number\")          #print it is even no.\n",
    "else:                                  #no. is not divisible by 2\n",
    "    print(x,\"is odd number\")           #print it is odd no.5"
   ]
  },
  {
   "cell_type": "markdown",
   "metadata": {},
   "source": [
    "Test cases:\n",
    "1. input:-3\n",
    " output:\"odd\"\n",
    "2. input:0\n",
    " output:\"even\"\n",
    "3. input:4\n",
    " output:\"even\"  "
   ]
  }
 ],
 "metadata": {
  "kernelspec": {
   "display_name": "Python 3",
   "language": "python",
   "name": "python3"
  },
  "language_info": {
   "codemirror_mode": {
    "name": "ipython",
    "version": 3
   },
   "file_extension": ".py",
   "mimetype": "text/x-python",
   "name": "python",
   "nbconvert_exporter": "python",
   "pygments_lexer": "ipython3",
   "version": "3.11.5"
  }
 },
 "nbformat": 4,
 "nbformat_minor": 2
}
