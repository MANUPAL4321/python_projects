{
 "cells": [
  {
   "cell_type": "markdown",
   "metadata": {},
   "source": [
    "Given two points (x1, y1) and (x2, y2), find the slope and intercept of the line joining these two points (the line may be perfectly horizontal or vertical)."
   ]
  },
  {
   "cell_type": "code",
   "execution_count": 21,
   "metadata": {},
   "outputs": [],
   "source": [
    "#(x1, y1) first point distance from x-axis and y-axis\n",
    "#(x2, y2) second point distance from x-axis and y-axis\n",
    "def func_slp(x1, y1, x2, y2):              \n",
    "                                           \n",
    "#x1 == x2 then slope, intercept will not defined because we know that \n",
    "#slope = (y1-y2)/(x2-x1) if x1 == x2 then denominator will be 0 it is not possible.\n",
    "    if x1 == x2:                           \n",
    "        slope = 'not define'                       \n",
    "        intercept = 'not define'\n",
    "#if x1!=x2 then it print output with the help of formula which written below        \n",
    "    else:\n",
    "        slope = (y1-y2)/(x2-x1)\n",
    "        intercept = y1-slope * x1\n",
    "    return 'slope =',slope, 'intercept=',intercept   \n",
    "            "
   ]
  },
  {
   "cell_type": "code",
   "execution_count": 22,
   "metadata": {},
   "outputs": [
    {
     "data": {
      "text/plain": [
       "('slope =', 'not define', 'intercept=', 'not define')"
      ]
     },
     "execution_count": 22,
     "metadata": {},
     "output_type": "execute_result"
    }
   ],
   "source": [
    "func_slp(0, 0, 0, 0)"
   ]
  },
  {
   "cell_type": "markdown",
   "metadata": {},
   "source": [
    "Test cases:\n",
    "1. input:4, 2, 4, 6\n",
    "output:'slope =', 'not define', 'intercept=', 'not define'\n",
    "2. input:4, 2, 6, 2\n",
    "output:'slope will be', 0.0, 'intercept will be', 2.0\n",
    "3. input:0, 0, 0, 0\n",
    "output:'slope =', 'not define', 'intercept=', 'not define'"
   ]
  },
  {
   "cell_type": "markdown",
   "metadata": {},
   "source": []
  }
 ],
 "metadata": {
  "kernelspec": {
   "display_name": "Python 3",
   "language": "python",
   "name": "python3"
  },
  "language_info": {
   "codemirror_mode": {
    "name": "ipython",
    "version": 3
   },
   "file_extension": ".py",
   "mimetype": "text/x-python",
   "name": "python",
   "nbconvert_exporter": "python",
   "pygments_lexer": "ipython3",
   "version": "3.11.5"
  }
 },
 "nbformat": 4,
 "nbformat_minor": 2
}
