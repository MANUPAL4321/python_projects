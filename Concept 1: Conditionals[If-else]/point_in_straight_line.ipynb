{
 "cells": [
  {
   "cell_type": "markdown",
   "metadata": {},
   "source": [
    "Given three points, find out whether they lie on the same straight line or not."
   ]
  },
  {
   "cell_type": "code",
   "execution_count": 1,
   "metadata": {},
   "outputs": [],
   "source": [
    "#(x1, y1), (x2, y2), (x3, y3) these are three point.\n",
    "def func_line(x1, y1, x2, y2, x3, y3):\n",
    "#it is area of triangle because if area between three points will be zero\n",
    "#then I can easily say that this all points lie on a straight line.    \n",
    "    area = (1/2)*(x1*(y2-y3)+x2*(y3-y1)+x3*(y1-y2))\n",
    "    \n",
    "    if area == 0:\n",
    "        return 'point lie on same straight line'\n",
    "    else:\n",
    "        return 'point not lie on same straight line'"
   ]
  },
  {
   "cell_type": "code",
   "execution_count": 5,
   "metadata": {},
   "outputs": [
    {
     "data": {
      "text/plain": [
       "'point lie on same straight line'"
      ]
     },
     "execution_count": 5,
     "metadata": {},
     "output_type": "execute_result"
    }
   ],
   "source": [
    "func_line(0, 0, 0, 0, 0, 0)"
   ]
  },
  {
   "cell_type": "markdown",
   "metadata": {},
   "source": [
    "Test cases:\n",
    "1. input:9, 8, 7, 6, 5, 4\n",
    "output:'point lie on same straight line'\n",
    "2. input:10, 8, 6, 6, 4, 4\n",
    "output:'point not lie on same straight line'"
   ]
  }
 ],
 "metadata": {
  "kernelspec": {
   "display_name": "Python 3",
   "language": "python",
   "name": "python3"
  },
  "language_info": {
   "codemirror_mode": {
    "name": "ipython",
    "version": 3
   },
   "file_extension": ".py",
   "mimetype": "text/x-python",
   "name": "python",
   "nbconvert_exporter": "python",
   "pygments_lexer": "ipython3",
   "version": "3.11.5"
  }
 },
 "nbformat": 4,
 "nbformat_minor": 2
}
