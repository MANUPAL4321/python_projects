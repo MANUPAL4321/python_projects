{
 "cells": [
  {
   "cell_type": "markdown",
   "metadata": {},
   "source": [
    "Given a quadratic equation with coefficients a, b and c, find the two solutions (may be real or complex). You should not take the square root of a negative number in your code."
   ]
  },
  {
   "cell_type": "code",
   "execution_count": 4,
   "metadata": {},
   "outputs": [],
   "source": [
    "#here a, b, c is a cofficients of quadratic equation ax^2 + bx + c.\n",
    "def func_root(a, b, c):\n",
    "#we can not take a=0 then it is not quadratic equation.    \n",
    "    x = (b**2)-(4*a*c)\n",
    "#if x will be greater than 0 then use formula's root which given below and find root1 and root2.\n",
    "    if x > 0:\n",
    "        root1 = (-b + x**0.5)/2*a\n",
    "        root2 = (-b - x**0.5)/2*a\n",
    "        return \"real root1=\", root1, \"real root2=\", root2\n",
    "#if x will be equal to 0 then find both equal root with the help of given formula.    \n",
    "    elif x == 0:\n",
    "        root = -b/(2*a)\n",
    "        return \"real root1=\", root, \"real root2=\", root\n",
    "# x will less than 0 then ans. of this root in complex form.     \n",
    "    else:\n",
    "        root1=(-b/(2*a)),'+',(((-x)**0.5)/(2*a))\n",
    "        root2=(-b/(2*a)),'-',(((-x)**0.5)/(2*a))\n",
    "        return root1, root2"
   ]
  },
  {
   "cell_type": "code",
   "execution_count": 5,
   "metadata": {},
   "outputs": [
    {
     "data": {
      "text/plain": [
       "((-1.0, '+', 1.5811388300841898), (-1.0, '-', 1.5811388300841898))"
      ]
     },
     "execution_count": 5,
     "metadata": {},
     "output_type": "execute_result"
    }
   ],
   "source": [
    "func_root(2,4,7)"
   ]
  },
  {
   "cell_type": "markdown",
   "metadata": {},
   "source": [
    "Test cases:\n",
    "1.input:4, 4, 1\n",
    "output:'real root1=', -0.5, 'real root2=', -0.5\n",
    "2.input:2, 0, 0\n",
    "output:'real root1=', 0.0, 'real root2=', 0.0\n",
    "3.input:"
   ]
  }
 ],
 "metadata": {
  "kernelspec": {
   "display_name": "Python 3",
   "language": "python",
   "name": "python3"
  },
  "language_info": {
   "codemirror_mode": {
    "name": "ipython",
    "version": 3
   },
   "file_extension": ".py",
   "mimetype": "text/x-python",
   "name": "python",
   "nbconvert_exporter": "python",
   "pygments_lexer": "ipython3",
   "version": "3.11.5"
  }
 },
 "nbformat": 4,
 "nbformat_minor": 2
}
