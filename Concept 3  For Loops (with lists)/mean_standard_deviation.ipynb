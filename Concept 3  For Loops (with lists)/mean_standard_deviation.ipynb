{
 "cells": [
  {
   "cell_type": "markdown",
   "metadata": {},
   "source": [
    "Q. Given a list of numbers, find out the mean and standard deviation."
   ]
  },
  {
   "cell_type": "code",
   "execution_count": 16,
   "metadata": {},
   "outputs": [],
   "source": [
    "def func_mean(listin):\n",
    "    if isinstance(listin, list):   #it will check it is list or not.\n",
    "        sum1 = 0\n",
    "        len1 = 0\n",
    "        for i in listin:\n",
    "            len1 += 1\n",
    "            sum1 += i\n",
    "        mean = sum1/len1          #find the mean with the help of it's formula\n",
    "        print(\"mean = \", mean)\n",
    "\n",
    "        sum2 = 0\n",
    "        for i in listin:\n",
    "            p = (mean - i)**2\n",
    "            sum2 += p\n",
    "        deviation = (sum2/len1)**0.5      #find the deviation with help of it's formula\n",
    "        print(\"deviation=\",deviation)\n",
    "    else:\n",
    "        return \"it is not list\"           #if listin will not present in form of list."
   ]
  },
  {
   "cell_type": "code",
   "execution_count": 17,
   "metadata": {},
   "outputs": [
    {
     "name": "stdout",
     "output_type": "stream",
     "text": [
      "mean =  6.0\n",
      "deviation= 1.5811388300841898\n"
     ]
    }
   ],
   "source": [
    "func_mean([4,5,7,8])"
   ]
  },
  {
   "cell_type": "code",
   "execution_count": 18,
   "metadata": {},
   "outputs": [
    {
     "name": "stdout",
     "output_type": "stream",
     "text": [
      "mean =  2.625\n",
      "deviation= 4.580870550452174\n"
     ]
    }
   ],
   "source": [
    "func_mean([0,8,-2,-5,9,6,3,2])"
   ]
  }
 ],
 "metadata": {
  "kernelspec": {
   "display_name": "Python 3",
   "language": "python",
   "name": "python3"
  },
  "language_info": {
   "codemirror_mode": {
    "name": "ipython",
    "version": 3
   },
   "file_extension": ".py",
   "mimetype": "text/x-python",
   "name": "python",
   "nbconvert_exporter": "python",
   "pygments_lexer": "ipython3",
   "version": "3.11.5"
  }
 },
 "nbformat": 4,
 "nbformat_minor": 2
}
