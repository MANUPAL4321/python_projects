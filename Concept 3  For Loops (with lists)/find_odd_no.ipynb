{
 "cells": [
  {
   "cell_type": "markdown",
   "metadata": {},
   "source": [
    "Q. Given a list of numbers, find all the odd numbers in it."
   ]
  },
  {
   "cell_type": "code",
   "execution_count": 8,
   "metadata": {},
   "outputs": [],
   "source": [
    "def func_odd(listin):\n",
    "#here check it is list and length not equal to 0.\n",
    "    if isinstance(listin, list) and (len(listin)!=0):\n",
    "        list1 = []\n",
    "#run one by one from listin.\n",
    "        for i in listin:\n",
    "#check i not divisible by 2 and greater than 0.            \n",
    "            if i%2!=0 and i>=0:\n",
    "#append one by one which follow upper rule.\n",
    "                list1.append(i)\n",
    "        return list1\n",
    "    else:\n",
    "        return \"it is not list\"        "
   ]
  },
  {
   "cell_type": "code",
   "execution_count": 9,
   "metadata": {},
   "outputs": [
    {
     "data": {
      "text/plain": [
       "[9]"
      ]
     },
     "execution_count": 9,
     "metadata": {},
     "output_type": "execute_result"
    }
   ],
   "source": [
    "listin = [2, 4, 8, 9, -5]\n",
    "func_odd(listin)"
   ]
  },
  {
   "cell_type": "code",
   "execution_count": 10,
   "metadata": {},
   "outputs": [
    {
     "data": {
      "text/plain": [
       "[9, 7, 3]"
      ]
     },
     "execution_count": 10,
     "metadata": {},
     "output_type": "execute_result"
    }
   ],
   "source": [
    "func_odd([4,6,9,10,7,3])"
   ]
  }
 ],
 "metadata": {
  "kernelspec": {
   "display_name": "Python 3",
   "language": "python",
   "name": "python3"
  },
  "language_info": {
   "codemirror_mode": {
    "name": "ipython",
    "version": 3
   },
   "file_extension": ".py",
   "mimetype": "text/x-python",
   "name": "python",
   "nbconvert_exporter": "python",
   "pygments_lexer": "ipython3",
   "version": "3.11.5"
  }
 },
 "nbformat": 4,
 "nbformat_minor": 2
}
