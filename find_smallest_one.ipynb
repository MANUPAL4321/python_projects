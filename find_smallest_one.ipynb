{
 "cells": [
  {
   "cell_type": "markdown",
   "metadata": {},
   "source": [
    "Given three integers, find the smallest one"
   ]
  },
  {
   "cell_type": "code",
   "execution_count": 20,
   "metadata": {},
   "outputs": [],
   "source": [
    "#a, b, c is three numbers which given three different name.\n",
    "def func_smal(a, b, c):\n",
    "#a is smaller or equal to b and a is smaller or equal to c then output will be a.   \n",
    "   if a <= b and a <= c:\n",
    "      return 'smallest one is', a\n",
    "#a is smaller or equal to b and a is smaller or equal to c then output will be a.         \n",
    "   elif b <= a and b <= c:\n",
    "      return 'smallest one is', b\n",
    "#at last it print c is smallest number.   \n",
    "   else:\n",
    "      return 'smallest one is', c "
   ]
  },
  {
   "cell_type": "code",
   "execution_count": 24,
   "metadata": {},
   "outputs": [
    {
     "data": {
      "text/plain": [
       "('smallest one is', 2)"
      ]
     },
     "execution_count": 24,
     "metadata": {},
     "output_type": "execute_result"
    }
   ],
   "source": [
    "func_smal(7, 2, 5)"
   ]
  },
  {
   "cell_type": "markdown",
   "metadata": {},
   "source": [
    "Test cases:\n",
    "1. input:-4, -4, -5\n",
    "output: 'smallest one is', -5\n",
    "2. input:-10, 0, 0\n",
    "output: 'smallest one is', -10"
   ]
  }
 ],
 "metadata": {
  "kernelspec": {
   "display_name": "Python 3",
   "language": "python",
   "name": "python3"
  },
  "language_info": {
   "codemirror_mode": {
    "name": "ipython",
    "version": 3
   },
   "file_extension": ".py",
   "mimetype": "text/x-python",
   "name": "python",
   "nbconvert_exporter": "python",
   "pygments_lexer": "ipython3",
   "version": "3.11.5"
  }
 },
 "nbformat": 4,
 "nbformat_minor": 2
}
