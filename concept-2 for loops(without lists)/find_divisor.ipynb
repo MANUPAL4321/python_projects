{
 "cells": [
  {
   "cell_type": "markdown",
   "metadata": {},
   "source": [
    "Given a positive integer, find all its divisors."
   ]
  },
  {
   "cell_type": "code",
   "execution_count": 1,
   "metadata": {},
   "outputs": [],
   "source": [
    "#take any positive number.\n",
    "def func_div(n):\n",
    "#run loop form 1 to n with the help of for loop    \n",
    "    for i in range(1,n+1):\n",
    "#which the number which divided to n and remain 0 then print one by one.        \n",
    "        if n%i==0:\n",
    "            print(\"divisors of n =\",i)"
   ]
  },
  {
   "cell_type": "code",
   "execution_count": 3,
   "metadata": {},
   "outputs": [
    {
     "name": "stdout",
     "output_type": "stream",
     "text": [
      "divisors of n = 1\n",
      "divisors of n = 2\n",
      "divisors of n = 4\n",
      "divisors of n = 5\n",
      "divisors of n = 10\n",
      "divisors of n = 20\n"
     ]
    }
   ],
   "source": [
    "func_div(20)"
   ]
  },
  {
   "cell_type": "code",
   "execution_count": 4,
   "metadata": {},
   "outputs": [
    {
     "name": "stdout",
     "output_type": "stream",
     "text": [
      "divisors of n = 1\n",
      "divisors of n = 2\n",
      "divisors of n = 5\n",
      "divisors of n = 10\n",
      "divisors of n = 25\n",
      "divisors of n = 50\n"
     ]
    }
   ],
   "source": [
    "func_div(50)"
   ]
  },
  {
   "cell_type": "code",
   "execution_count": 5,
   "metadata": {},
   "outputs": [
    {
     "name": "stdout",
     "output_type": "stream",
     "text": [
      "divisors of n = 1\n",
      "divisors of n = 7\n",
      "divisors of n = 49\n"
     ]
    }
   ],
   "source": [
    "func_div(49)"
   ]
  }
 ],
 "metadata": {
  "kernelspec": {
   "display_name": "Python 3",
   "language": "python",
   "name": "python3"
  },
  "language_info": {
   "codemirror_mode": {
    "name": "ipython",
    "version": 3
   },
   "file_extension": ".py",
   "mimetype": "text/x-python",
   "name": "python",
   "nbconvert_exporter": "python",
   "pygments_lexer": "ipython3",
   "version": "3.11.5"
  }
 },
 "nbformat": 4,
 "nbformat_minor": 2
}
