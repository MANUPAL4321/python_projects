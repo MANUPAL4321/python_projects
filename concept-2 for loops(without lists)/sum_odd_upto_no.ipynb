{
 "cells": [
  {
   "cell_type": "markdown",
   "metadata": {},
   "source": [
    "Given a positive integer, find out the sum of all odd numbers from 1 up to this number."
   ]
  },
  {
   "cell_type": "code",
   "execution_count": 9,
   "metadata": {},
   "outputs": [],
   "source": [
    "#put any integer place of n\n",
    "def func_sum(n):\n",
    "# if integer will be less or equal to 0 then return please enter positive integer    \n",
    "    if n<=0:\n",
    "        return \"please enter positive integer\"\n",
    "#intial sum will be 0    \n",
    "    sum=0\n",
    "# loop  run one by one from 1 upto n    \n",
    "    for i in range(1, n+1):\n",
    "#the integer which does not divisible by 2 then add one by one in sum        \n",
    "        if i%2 != 0:\n",
    "            sum+=i\n",
    "#after add one by one in sum upto n then return sum at last            \n",
    "    return sum        "
   ]
  },
  {
   "cell_type": "code",
   "execution_count": 10,
   "metadata": {},
   "outputs": [
    {
     "data": {
      "text/plain": [
       "25"
      ]
     },
     "execution_count": 10,
     "metadata": {},
     "output_type": "execute_result"
    }
   ],
   "source": [
    "func_sum(9)"
   ]
  }
 ],
 "metadata": {
  "kernelspec": {
   "display_name": "Python 3",
   "language": "python",
   "name": "python3"
  },
  "language_info": {
   "codemirror_mode": {
    "name": "ipython",
    "version": 3
   },
   "file_extension": ".py",
   "mimetype": "text/x-python",
   "name": "python",
   "nbconvert_exporter": "python",
   "pygments_lexer": "ipython3",
   "version": "3.11.5"
  }
 },
 "nbformat": 4,
 "nbformat_minor": 2
}
