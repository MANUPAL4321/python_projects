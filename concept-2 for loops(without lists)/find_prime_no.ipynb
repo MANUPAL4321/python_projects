{
 "cells": [
  {
   "cell_type": "markdown",
   "metadata": {},
   "source": [
    "Given a positive integer, find out if it’s prime or not."
   ]
  },
  {
   "cell_type": "code",
   "execution_count": 1,
   "metadata": {},
   "outputs": [],
   "source": [
    "#take any number for check prime\n",
    "def func_prime(n):\n",
    "#less than 2 of any number will be not prime\n",
    "    if n < 2:\n",
    "        return n,'is not prime'\n",
    "#less than square root of n number will be divisor of n.\n",
    "#which no. divisor of more than root of n then it will factor.     \n",
    "    for i in range(2, int(n**0.5) + 1):\n",
    "#check all number 2 to square root of n.\n",
    "# which divisible by no.between them then it will not prime         \n",
    "        if n % i == 0:\n",
    "            return n,'is not prime'\n",
    "# other wise all number will be prime        \n",
    "    return n,'is a prime number'"
   ]
  },
  {
   "cell_type": "code",
   "execution_count": 6,
   "metadata": {},
   "outputs": [
    {
     "data": {
      "text/plain": [
       "(9, 'is not prime')"
      ]
     },
     "execution_count": 6,
     "metadata": {},
     "output_type": "execute_result"
    }
   ],
   "source": [
    "func_prime(9)"
   ]
  },
  {
   "cell_type": "markdown",
   "metadata": {},
   "source": [
    "Test cases:\n",
    "1.input:1 \n",
    "output:1,'is not prime'  ,\n",
    "2.input:6\n",
    "output:6,'is not prime'  ,\n",
    "3.input:3\n",
    "output:3,'is a prime number'"
   ]
  },
  {
   "cell_type": "markdown",
   "metadata": {},
   "source": []
  }
 ],
 "metadata": {
  "kernelspec": {
   "display_name": "Python 3",
   "language": "python",
   "name": "python3"
  },
  "language_info": {
   "codemirror_mode": {
    "name": "ipython",
    "version": 3
   },
   "file_extension": ".py",
   "mimetype": "text/x-python",
   "name": "python",
   "nbconvert_exporter": "python",
   "pygments_lexer": "ipython3",
   "version": "3.11.5"
  }
 },
 "nbformat": 4,
 "nbformat_minor": 2
}
