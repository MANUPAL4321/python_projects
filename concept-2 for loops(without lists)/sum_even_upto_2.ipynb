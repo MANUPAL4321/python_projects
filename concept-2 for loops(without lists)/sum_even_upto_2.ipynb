{
 "cells": [
  {
   "cell_type": "markdown",
   "metadata": {},
   "source": [
    "Given a positive integer, find out the sum of all even numbers from 2 up to this number."
   ]
  },
  {
   "cell_type": "code",
   "execution_count": 7,
   "metadata": {},
   "outputs": [],
   "source": [
    "#first take any integer at the place of n.\n",
    "def func_even(n):\n",
    "#if integer less than 1 then print please enter positive number     \n",
    "    if n <= 0:\n",
    "        return 'please enter positive number'\n",
    "#if integer greater than 0 then sum the integer which divisible by 2 from 2.    \n",
    "    sum = 0\n",
    "    for i in range(2, n+1):\n",
    "        \n",
    "        if i%2 == 0:\n",
    "            sum+=i\n",
    "    return sum        "
   ]
  },
  {
   "cell_type": "code",
   "execution_count": 10,
   "metadata": {},
   "outputs": [
    {
     "data": {
      "text/plain": [
       "0"
      ]
     },
     "execution_count": 10,
     "metadata": {},
     "output_type": "execute_result"
    }
   ],
   "source": [
    "func_even(1)"
   ]
  },
  {
   "cell_type": "markdown",
   "metadata": {},
   "source": [
    "1. input:-1\n",
    "output:please enter positive integer.  ,\n",
    "2. input:1\n",
    "output:0   ,\n",
    "3. input:4\n",
    "output:6"
   ]
  }
 ],
 "metadata": {
  "kernelspec": {
   "display_name": "Python 3",
   "language": "python",
   "name": "python3"
  },
  "language_info": {
   "codemirror_mode": {
    "name": "ipython",
    "version": 3
   },
   "file_extension": ".py",
   "mimetype": "text/x-python",
   "name": "python",
   "nbconvert_exporter": "python",
   "pygments_lexer": "ipython3",
   "version": "3.11.5"
  }
 },
 "nbformat": 4,
 "nbformat_minor": 2
}
