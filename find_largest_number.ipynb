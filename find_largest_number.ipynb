{
 "cells": [
  {
   "cell_type": "markdown",
   "metadata": {},
   "source": [
    "Given two integers, find the larger one."
   ]
  },
  {
   "cell_type": "code",
   "execution_count": 25,
   "metadata": {},
   "outputs": [],
   "source": [
    "def func_large(x,y):                                   #take two numbers x,y \n",
    "    if x>y:\n",
    "        return x,'is largest one'                      #x > y then print x is largest one\n",
    "    elif x<y:\n",
    "        return y,'is largest one'                      #x < y then print y is largest one\n",
    "    else:\n",
    "        return x,\"is equal to\",y                       #x is equal y then print x is equal to y"
   ]
  },
  {
   "cell_type": "code",
   "execution_count": 26,
   "metadata": {},
   "outputs": [
    {
     "data": {
      "text/plain": [
       "(-2, 'is equal to', -2)"
      ]
     },
     "execution_count": 26,
     "metadata": {},
     "output_type": "execute_result"
    }
   ],
   "source": [
    "func_large(-2, -2)"
   ]
  },
  {
   "cell_type": "markdown",
   "metadata": {},
   "source": [
    "Test cases:\n",
    "1. input:\n",
    "x=1, y=2\n",
    "output:2 is largest one\n",
    "2. input:\n",
    "x=-3, y=-1\n",
    "output:-1 is largest one\n",
    "3. input:\n",
    "x=-2, y=-2\n",
    "output:-2 is equal to -2"
   ]
  }
 ],
 "metadata": {
  "kernelspec": {
   "display_name": "Python 3",
   "language": "python",
   "name": "python3"
  },
  "language_info": {
   "codemirror_mode": {
    "name": "ipython",
    "version": 3
   },
   "file_extension": ".py",
   "mimetype": "text/x-python",
   "name": "python",
   "nbconvert_exporter": "python",
   "pygments_lexer": "ipython3",
   "version": "3.11.5"
  }
 },
 "nbformat": 4,
 "nbformat_minor": 2
}
