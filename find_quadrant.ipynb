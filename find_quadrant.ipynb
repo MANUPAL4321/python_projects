{
 "cells": [
  {
   "cell_type": "markdown",
   "metadata": {},
   "source": [
    "Given a point (x1, y1), find the quadrant in which this point lies."
   ]
  },
  {
   "cell_type": "code",
   "execution_count": 5,
   "metadata": {},
   "outputs": [],
   "source": [
    "# enter any value of x1 and y1 for check quadrant.\n",
    "def func_quad(x1, y1):\n",
    "    if x1 > 0 and y1 > 0:\n",
    "        return \"point lies in quadrant 1\"\n",
    "    elif x1 < 0 and y1 > 0:\n",
    "        return \"point lies in quadrant 2\"\n",
    "    elif x1 < 0 and y1 < 0:\n",
    "        return \"point lies in quadrant 3\"\n",
    "    elif x1 > 0 and y1 < 0:\n",
    "        return \"point lies in quadrant 4\"\n",
    "    elif x1 == 0 and y1 != 0:\n",
    "        return \"point lies on y axis\"\n",
    "    elif x1 != 0 and y1 ==0:\n",
    "        return \"point lies on x axis\"\n",
    "    else:\n",
    "        return \"point lies on origin\"\n",
    "    "
   ]
  },
  {
   "cell_type": "code",
   "execution_count": 6,
   "metadata": {},
   "outputs": [
    {
     "data": {
      "text/plain": [
       "'point lies on origin'"
      ]
     },
     "execution_count": 6,
     "metadata": {},
     "output_type": "execute_result"
    }
   ],
   "source": [
    "func_quad(0, 0)"
   ]
  },
  {
   "cell_type": "markdown",
   "metadata": {},
   "source": [
    "Test cases:\n",
    "1. input:-5, -4   \n",
    "output:'quadrant 3'\n",
    "2. input:-5, 0   \n",
    "output:'point lie on x axis'\n",
    "3. input:0, 0   \n",
    "output:'point lie on origin'"
   ]
  },
  {
   "cell_type": "markdown",
   "metadata": {},
   "source": []
  }
 ],
 "metadata": {
  "kernelspec": {
   "display_name": "Python 3",
   "language": "python",
   "name": "python3"
  },
  "language_info": {
   "codemirror_mode": {
    "name": "ipython",
    "version": 3
   },
   "file_extension": ".py",
   "mimetype": "text/x-python",
   "name": "python",
   "nbconvert_exporter": "python",
   "pygments_lexer": "ipython3",
   "version": "3.11.5"
  }
 },
 "nbformat": 4,
 "nbformat_minor": 2
}
