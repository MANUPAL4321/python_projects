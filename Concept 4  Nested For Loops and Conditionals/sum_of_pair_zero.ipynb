{
 "cells": [
  {
   "cell_type": "markdown",
   "metadata": {},
   "source": [
    "Q. Given a list of integers, find all pairs of integers in the list whose sum is zero."
   ]
  },
  {
   "cell_type": "code",
   "execution_count": 19,
   "metadata": {},
   "outputs": [],
   "source": [
    "def func_sum(listin):    \n",
    "    list1 = []\n",
    "#run one by one loop with the help of nested loop    \n",
    "    for i in listin:\n",
    "        for j in listin:\n",
    "#check the sum of i and j equal to 0.               \n",
    "            if i+j==0:\n",
    "#those pair follow upper rule then append in list1.                \n",
    "                list1.append((i,j))\n",
    "    print(list1)        \n",
    "\n"
   ]
  },
  {
   "cell_type": "code",
   "execution_count": 22,
   "metadata": {},
   "outputs": [
    {
     "name": "stdout",
     "output_type": "stream",
     "text": [
      "[(3, -3), (-3, 3), (9, -9), (-9, 9)]\n"
     ]
    }
   ],
   "source": [
    "func_sum([3,6,-3,9,-9])"
   ]
  },
  {
   "cell_type": "code",
   "execution_count": 23,
   "metadata": {},
   "outputs": [
    {
     "name": "stdout",
     "output_type": "stream",
     "text": [
      "[(3, -3), (3, -3), (-3, 3), (-3, 3)]\n"
     ]
    }
   ],
   "source": [
    "func_sum([-1,10,3,5,-3,-3])"
   ]
  },
  {
   "cell_type": "code",
   "execution_count": 24,
   "metadata": {},
   "outputs": [
    {
     "name": "stdout",
     "output_type": "stream",
     "text": [
      "[(-8, 8), (9, -9), (8, -8), (-9, 9)]\n"
     ]
    }
   ],
   "source": [
    "func_sum([3,6,-8,9,8,-9])"
   ]
  }
 ],
 "metadata": {
  "kernelspec": {
   "display_name": "Python 3",
   "language": "python",
   "name": "python3"
  },
  "language_info": {
   "codemirror_mode": {
    "name": "ipython",
    "version": 3
   },
   "file_extension": ".py",
   "mimetype": "text/x-python",
   "name": "python",
   "nbconvert_exporter": "python",
   "pygments_lexer": "ipython3",
   "version": "3.11.5"
  }
 },
 "nbformat": 4,
 "nbformat_minor": 2
}
