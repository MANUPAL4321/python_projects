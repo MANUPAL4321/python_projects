{
 "cells": [
  {
   "cell_type": "markdown",
   "metadata": {},
   "source": [
    "Q. Given two numbers, find its Least Common Multiple (LCM)."
   ]
  },
  {
   "cell_type": "code",
   "execution_count": 18,
   "metadata": {},
   "outputs": [],
   "source": [
    "def func_lcm(num1, num2):\n",
    "#it will be check that it is integer and greater than -1.\n",
    "    if isinstance(num1 and num2, int) and (num1>=0 and num2>=0):\n",
    "        if num1==num2:\n",
    "            return num1\n",
    "        elif num1==0 or num2==0:\n",
    "            return 0\n",
    "        else:\n",
    "        #here it will be check greater num.    \n",
    "            if num1 > num2:\n",
    "                large = num1\n",
    "            else:\n",
    "                large = num2\n",
    "#check one by one larger num than greater num which multiple of larger num and divisible by both           \n",
    "            for i in range(large, (num1*num2)+1, large):\n",
    "                if i%num1==0 and i%num2==0:\n",
    "                    return i  \n",
    "    else:\n",
    "        return \"it has negative integer\"             "
   ]
  },
  {
   "cell_type": "code",
   "execution_count": 19,
   "metadata": {},
   "outputs": [
    {
     "data": {
      "text/plain": [
       "12"
      ]
     },
     "execution_count": 19,
     "metadata": {},
     "output_type": "execute_result"
    }
   ],
   "source": [
    "func_lcm(4,3)"
   ]
  },
  {
   "cell_type": "code",
   "execution_count": 20,
   "metadata": {},
   "outputs": [
    {
     "data": {
      "text/plain": [
       "0"
      ]
     },
     "execution_count": 20,
     "metadata": {},
     "output_type": "execute_result"
    }
   ],
   "source": [
    "func_lcm(0,5)"
   ]
  },
  {
   "cell_type": "code",
   "execution_count": 21,
   "metadata": {},
   "outputs": [
    {
     "data": {
      "text/plain": [
       "'it has negative integer'"
      ]
     },
     "execution_count": 21,
     "metadata": {},
     "output_type": "execute_result"
    }
   ],
   "source": [
    "func_lcm(-9,5)"
   ]
  }
 ],
 "metadata": {
  "kernelspec": {
   "display_name": "Python 3",
   "language": "python",
   "name": "python3"
  },
  "language_info": {
   "codemirror_mode": {
    "name": "ipython",
    "version": 3
   },
   "file_extension": ".py",
   "mimetype": "text/x-python",
   "name": "python",
   "nbconvert_exporter": "python",
   "pygments_lexer": "ipython3",
   "version": "3.11.5"
  }
 },
 "nbformat": 4,
 "nbformat_minor": 2
}
