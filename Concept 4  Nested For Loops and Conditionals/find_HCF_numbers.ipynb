{
 "cells": [
  {
   "cell_type": "markdown",
   "metadata": {},
   "source": [
    "Q. Given two numbers, find its Greatest Common Divisor (Divisor)."
   ]
  },
  {
   "cell_type": "code",
   "execution_count": 40,
   "metadata": {},
   "outputs": [
    {
     "name": "stdout",
     "output_type": "stream",
     "text": [
      "hcf will be of 9 and 9 = 9\n"
     ]
    }
   ],
   "source": [
    "x = int(input(\"enter first num\")) \n",
    "y = int(input(\"enter second num\"))\n",
    "if x==y:\n",
    "    print(\"hcf will be of\" ,x, \"and\" ,y, \"=\",x)\n",
    "else:\n",
    "    if x>y:\n",
    "       smaller=y\n",
    "    else:\n",
    "       smaller=x\n",
    "#after find smaller number then run one by one continuous number upto smaller number.       \n",
    "    for i in range(1,smaller+1):\n",
    "#which last number divide of both number then print in the form of hcf.        \n",
    "        if x%i==0 and y%i==0:\n",
    "            hcf=i\n",
    "    print(\"hcf of\",x,\" and \" ,y, \"will be\",hcf)    "
   ]
  }
 ],
 "metadata": {
  "kernelspec": {
   "display_name": "Python 3",
   "language": "python",
   "name": "python3"
  },
  "language_info": {
   "codemirror_mode": {
    "name": "ipython",
    "version": 3
   },
   "file_extension": ".py",
   "mimetype": "text/x-python",
   "name": "python",
   "nbconvert_exporter": "python",
   "pygments_lexer": "ipython3",
   "version": "3.11.5"
  }
 },
 "nbformat": 4,
 "nbformat_minor": 2
}
