{
 "cells": [
  {
   "cell_type": "markdown",
   "metadata": {},
   "source": [
    "Q. Given a list of numbers, find out how many times each number occurs in the list.\n"
   ]
  },
  {
   "cell_type": "code",
   "execution_count": 10,
   "metadata": {},
   "outputs": [],
   "source": [
    "def func_num(listin):\n",
    "#will take a empty list which have not repeated number.    \n",
    "    lst=[]\n",
    "#run one by one from listin. \n",
    "    for i in listin:\n",
    "#num which not present in 1st\n",
    "        if i not in lst:\n",
    "            count=0\n",
    "#count one by one num with the help of for loop and add 1st list.\n",
    "            for j in listin:\n",
    "                if i==j:\n",
    "                    count+=1\n",
    "            lst.append(i)\n",
    "            print(i,'appears',count,'times')\n"
   ]
  },
  {
   "cell_type": "code",
   "execution_count": 11,
   "metadata": {},
   "outputs": [
    {
     "name": "stdout",
     "output_type": "stream",
     "text": [
      "5 appears 3 times\n",
      "7 appears 3 times\n",
      "8 appears 1 times\n",
      "21 appears 1 times\n",
      "67 appears 1 times\n"
     ]
    }
   ],
   "source": [
    "func_num([5,5,7,8,7,5,21,67,7])"
   ]
  },
  {
   "cell_type": "code",
   "execution_count": 14,
   "metadata": {},
   "outputs": [
    {
     "name": "stdout",
     "output_type": "stream",
     "text": [
      "4 appears 2 times\n",
      "5 appears 1 times\n",
      "6 appears 1 times\n",
      "0 appears 1 times\n",
      "2 appears 1 times\n"
     ]
    }
   ],
   "source": [
    "func_num([ 4, 5, 6, 0, 4, 2])"
   ]
  },
  {
   "cell_type": "code",
   "execution_count": 15,
   "metadata": {},
   "outputs": [
    {
     "name": "stdout",
     "output_type": "stream",
     "text": [
      "4 appears 1 times\n",
      "6 appears 1 times\n",
      "8 appears 1 times\n",
      "9 appears 1 times\n",
      "-1 appears 2 times\n",
      "-2 appears 2 times\n"
     ]
    }
   ],
   "source": [
    "func_num([4, 6, 8, 9, -1, -2, -1, -2])"
   ]
  }
 ],
 "metadata": {
  "kernelspec": {
   "display_name": "Python 3",
   "language": "python",
   "name": "python3"
  },
  "language_info": {
   "codemirror_mode": {
    "name": "ipython",
    "version": 3
   },
   "file_extension": ".py",
   "mimetype": "text/x-python",
   "name": "python",
   "nbconvert_exporter": "python",
   "pygments_lexer": "ipython3",
   "version": "3.11.5"
  }
 },
 "nbformat": 4,
 "nbformat_minor": 2
}
