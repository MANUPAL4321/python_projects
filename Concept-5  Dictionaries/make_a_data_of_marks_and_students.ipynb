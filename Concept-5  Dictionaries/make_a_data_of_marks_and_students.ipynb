{
 "cells": [
  {
   "cell_type": "markdown",
   "metadata": {
    "tags": []
   },
   "source": [
    "Create a dictionary to store the total marks of 5 students in the class in 3 subjects (Course1, Course2, Course3). The keys must be the student names, and the values must be the list of marks. Create another list which has the course names in the same order as the marks are stored in the dictionary values. Now write a nested for loop to print the marks for each student exam wise."
   ]
  },
  {
   "cell_type": "markdown",
   "metadata": {},
   "source": [
    "Student1:-\n",
    "Course1 marks : 82,\n",
    "Course2 marks : 84,\n",
    "Course3 marks : 72 ;\n",
    "Student2:-\n",
    "Course1 marks : 87,\n",
    "Course2 marks : 83,\n",
    "Course3 marks : 78"
   ]
  },
  {
   "cell_type": "code",
   "execution_count": 6,
   "metadata": {},
   "outputs": [
    {
     "name": "stdout",
     "output_type": "stream",
     "text": [
      "nitesh\n",
      "maths : 95\n",
      "python : 48\n",
      "english : 79\n",
      "--------------------------\n",
      "rahul\n",
      "maths : 98\n",
      "python : 95\n",
      "english : 92\n",
      "--------------------------\n",
      "govind\n",
      "maths : 75\n",
      "python : 50\n",
      "english : 20\n",
      "--------------------------\n",
      "harsh\n",
      "maths : 84\n",
      "python : 73\n",
      "english : 40\n",
      "--------------------------\n",
      "gautam\n",
      "maths : 80\n",
      "python : 50\n",
      "english : 70\n",
      "--------------------------\n"
     ]
    }
   ],
   "source": [
    "dict1 = {'nitesh': [95,48,79], 'rahul': [98,95,92], 'govind': [75,50,20], 'harsh':\n",
    "         [84,73,40], 'gautam': [80,50,70]}\n",
    "list1 = ['maths', 'python', 'english']\n",
    "for key, value in dict1.items():\n",
    "    # print(\"\\n\")\n",
    "    print(key)\n",
    "    # print(\"\\n\")\n",
    "    for i in range(len(value)):\n",
    "        print(list1[i],\":\",value[i])\n",
    "    print(\"--------------------------\")        \n"
   ]
  }
 ],
 "metadata": {
  "kernelspec": {
   "display_name": "Python 3",
   "language": "python",
   "name": "python3"
  },
  "language_info": {
   "codemirror_mode": {
    "name": "ipython",
    "version": 3
   },
   "file_extension": ".py",
   "mimetype": "text/x-python",
   "name": "python",
   "nbconvert_exporter": "python",
   "pygments_lexer": "ipython3",
   "version": "3.11.5"
  }
 },
 "nbformat": 4,
 "nbformat_minor": 2
}
