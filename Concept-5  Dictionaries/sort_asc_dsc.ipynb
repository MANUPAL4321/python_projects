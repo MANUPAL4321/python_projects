{
 "cells": [
  {
   "cell_type": "markdown",
   "metadata": {},
   "source": [
    "Q. Create a dictionary of your marks in various subjects and then sort it by its values first in descending order, and then in or ascending order. Do not use any inbuilt sorting functions.\n"
   ]
  },
  {
   "cell_type": "code",
   "execution_count": 16,
   "metadata": {},
   "outputs": [
    {
     "name": "stdout",
     "output_type": "stream",
     "text": [
      "[('math', 79), ('physics', 80), ('chemistry', 70), ('phython', 50)]\n",
      "{'physics': 80, 'math': 79, 'chemistry': 70, 'phython': 50}\n",
      "{'phython': 50, 'chemistry': 70, 'math': 79, 'physics': 80}\n"
     ]
    }
   ],
   "source": [
    "dict1 = {'math': 79, 'physics': 80, 'chemistry': 70, 'phython': 50}\n",
    "#items of dict of change in list. \n",
    "list1 = list(dict1.items())\n",
    "print(list1)\n",
    "#len of list with the help of len\n",
    "length = len(list1)\n",
    "#run one by one len of list form 0 to upto length-1.\n",
    "for i in range(length):\n",
    "#run one by one len of list from 0 to upto less than length-1 because it help in next step.    \n",
    "    for j in range(0,length-1):\n",
    "#compare to each other which is greater then excahnge each other first greater then other.        \n",
    "        if list1[j+1][1] > list1[j][1]:\n",
    "            list1[j],list1[j+1]= list1[j+1],list1[j]\n",
    "print(dict(list1))\n",
    "#run one by one len of list form 0 to upto length-1.\n",
    "for i in range(length):\n",
    "#run one by one len of list from 0 to upto less than length-1 because it help in next step.    \n",
    "    for j in range(0,length-1):\n",
    "#compare to each other which is smaller then excahnge each other first smaller then other        \n",
    "        if list1[j+1][1] < list1[j][1]:\n",
    "            list1[j],list1[j+1]= list1[j+1],list1[j]\n",
    "print(dict(list1))        "
   ]
  }
 ],
 "metadata": {
  "kernelspec": {
   "display_name": "Python 3",
   "language": "python",
   "name": "python3"
  },
  "language_info": {
   "codemirror_mode": {
    "name": "ipython",
    "version": 3
   },
   "file_extension": ".py",
   "mimetype": "text/x-python",
   "name": "python",
   "nbconvert_exporter": "python",
   "pygments_lexer": "ipython3",
   "version": "3.11.5"
  }
 },
 "nbformat": 4,
 "nbformat_minor": 2
}
