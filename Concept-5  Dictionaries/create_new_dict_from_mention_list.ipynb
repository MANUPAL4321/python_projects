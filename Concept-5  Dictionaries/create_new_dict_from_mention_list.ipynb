{
 "cells": [
  {
   "cell_type": "markdown",
   "metadata": {},
   "source": [
    "Q. Create a new dictionary so that it only has the keys mentioned in another list\n",
    "sample_dict = { “name”: “Kelly”, “age”: 25, “salary”: 8000, “city”: “New york”}\n",
    "# Keys to extract\n",
    "keys = [“name”, “salary”]"
   ]
  },
  {
   "cell_type": "code",
   "execution_count": 5,
   "metadata": {},
   "outputs": [
    {
     "name": "stdout",
     "output_type": "stream",
     "text": [
      "{'name': 'Kelly', 'salary': 8000}\n"
     ]
    }
   ],
   "source": [
    "sample_dict = { \"name\": \"Kelly\", \"age\": 25, \"salary\": 8000, \"city\": \"New york\"}\n",
    "keys = [\"name\", \"salary\"]\n",
    "dict1 = {}\n",
    "#run one by one keys's element with the help of loop.\n",
    "for i in keys:\n",
    "#compare to each other for matches keys.    \n",
    "    if i in sample_dict.keys():\n",
    "#take keys and values from sample_dict and add in dict1.       \n",
    "       dict1[i]=sample_dict[i]\n",
    "print(dict1)       "
   ]
  }
 ],
 "metadata": {
  "kernelspec": {
   "display_name": "Python 3",
   "language": "python",
   "name": "python3"
  },
  "language_info": {
   "codemirror_mode": {
    "name": "ipython",
    "version": 3
   },
   "file_extension": ".py",
   "mimetype": "text/x-python",
   "name": "python",
   "nbconvert_exporter": "python",
   "pygments_lexer": "ipython3",
   "version": "3.11.5"
  }
 },
 "nbformat": 4,
 "nbformat_minor": 2
}
