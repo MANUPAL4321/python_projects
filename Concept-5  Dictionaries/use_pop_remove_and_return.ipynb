{
 "cells": [
  {
   "cell_type": "markdown",
   "metadata": {},
   "source": [
    "Remove a key from a dictionary:\n",
    "dict_name.pop(key_name)\n",
    "What does this function return?\n",
    "Use pop to rename a key."
   ]
  },
  {
   "cell_type": "code",
   "execution_count": 6,
   "metadata": {},
   "outputs": [
    {
     "name": "stdout",
     "output_type": "stream",
     "text": [
      "New york\n",
      "\n",
      "\n",
      "{'name': 'Kelly', 'age': 25, 'salary': 8000}\n",
      "\n",
      "\n",
      "{'name': 'Kelly', 'age': 25, 'salary': 8000, 'country': 'New york'}\n"
     ]
    }
   ],
   "source": [
    "sample_dict = { \"name\": \"Kelly\", \"age\": 25, \"salary\": 8000, \"city\": \"New york\"}\n",
    "#take a key for pop from upper dict.\n",
    "key_needed = \"city\"\n",
    "#here i will find value of pop key.\n",
    "sample_dict1 = sample_dict.pop(key_needed)\n",
    "print(sample_dict1)\n",
    "print(\"\\n\")\n",
    "#here i will find dict after pop one item.\n",
    "print(sample_dict)\n",
    "print(\"\\n\")\n",
    "# pop key new york replace by country\n",
    "sample_dict[\"country\"] = sample_dict1\n",
    "print(sample_dict)"
   ]
  }
 ],
 "metadata": {
  "kernelspec": {
   "display_name": "Python 3",
   "language": "python",
   "name": "python3"
  },
  "language_info": {
   "codemirror_mode": {
    "name": "ipython",
    "version": 3
   },
   "file_extension": ".py",
   "mimetype": "text/x-python",
   "name": "python",
   "nbconvert_exporter": "python",
   "pygments_lexer": "ipython3",
   "version": "3.11.5"
  }
 },
 "nbformat": 4,
 "nbformat_minor": 2
}
